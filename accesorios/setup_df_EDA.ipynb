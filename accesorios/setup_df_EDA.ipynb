{
 "cells": [
  {
   "cell_type": "code",
   "execution_count": 1,
   "metadata": {
    "Collapsed": "false"
   },
   "outputs": [],
   "source": [
    "import pandas as pd\n",
    "import numpy as np"
   ]
  },
  {
   "cell_type": "code",
   "execution_count": 2,
   "metadata": {
    "Collapsed": "false"
   },
   "outputs": [],
   "source": [
    "import regex as re\n",
    "from datetime import datetime\n"
   ]
  },
  {
   "cell_type": "code",
   "execution_count": 3,
   "metadata": {
    "Collapsed": "false"
   },
   "outputs": [],
   "source": [
    "# traigo el dataset original de robados\n",
    "data = pd.read_csv('./robo_autos/curados/recuperados.csv')"
   ]
  },
  {
   "cell_type": "code",
   "execution_count": 4,
   "metadata": {
    "Collapsed": "false"
   },
   "outputs": [],
   "source": [
    "data.drop(['registro_seccional_codigo', 'automotor_tipo_codigo', 'automotor_marca_codigo','automotor_modelo_codigo', 'automotor_uso_codigo', \n",
    "          'titular_domicilio_provincia_indec_id', 'titular_pais_nacimiento_indec_id'], axis = 1, inplace = True)"
   ]
  },
  {
   "cell_type": "markdown",
   "metadata": {
    "Collapsed": "false"
   },
   "source": [
    "--------------------"
   ]
  },
  {
   "cell_type": "code",
   "execution_count": 5,
   "metadata": {
    "Collapsed": "false"
   },
   "outputs": [
    {
     "data": {
      "text/plain": [
       "(2992, 18)"
      ]
     },
     "execution_count": 5,
     "metadata": {},
     "output_type": "execute_result"
    }
   ],
   "source": [
    "data.shape"
   ]
  },
  {
   "cell_type": "code",
   "execution_count": 8,
   "metadata": {
    "Collapsed": "false"
   },
   "outputs": [
    {
     "data": {
      "text/plain": [
       "Index(['tramite_tipo', 'tramite_fecha', 'fecha_inscripcion_inicial',\n",
       "       'registro_seccional_descripcion', 'registro_seccional_provincia',\n",
       "       'automotor_origen', 'automotor_anio_modelo',\n",
       "       'automotor_tipo_descripcion', 'automotor_marca_descripcion',\n",
       "       'automotor_modelo_descripcion', 'automotor_uso_descripcion',\n",
       "       'titular_tipo_persona', 'titular_domicilio_localidad',\n",
       "       'titular_domicilio_provincia', 'titular_genero',\n",
       "       'titular_anio_nacimiento', 'titular_pais_nacimiento',\n",
       "       'titular_porcentaje_titularidad'],\n",
       "      dtype='object')"
      ]
     },
     "execution_count": 8,
     "metadata": {},
     "output_type": "execute_result"
    }
   ],
   "source": [
    "#data.automotor_tipo_descripcion.unique()\n",
    "data.columns"
   ]
  },
  {
   "cell_type": "code",
   "execution_count": 8,
   "metadata": {
    "Collapsed": "false"
   },
   "outputs": [
    {
     "data": {
      "text/plain": [
       "17"
      ]
     },
     "execution_count": 8,
     "metadata": {},
     "output_type": "execute_result"
    }
   ],
   "source": [
    "data['automotor_tipo_descripcion'].nunique()"
   ]
  },
  {
   "cell_type": "code",
   "execution_count": 104,
   "metadata": {
    "Collapsed": "false"
   },
   "outputs": [
    {
     "data": {
      "text/plain": [
       "array(['SEDAN 4 P', 'SEDAN 3 P', 'SEDAN'], dtype=object)"
      ]
     },
     "execution_count": 104,
     "metadata": {},
     "output_type": "execute_result"
    }
   ],
   "source": [
    "# Checkear los nombres que solo tienen el string...\n",
    "#data[data['automotor_tipo_descripcion'].str.contains('FURGON')]['automotor_tipo_descripcion'].unique()\n",
    "data[data['automotor_tipo_descripcion'].str.contains('SEDAN')]['automotor_tipo_descripcion'].unique()"
   ]
  },
  {
   "cell_type": "code",
   "execution_count": 42,
   "metadata": {
    "Collapsed": "false"
   },
   "outputs": [
    {
     "data": {
      "text/plain": [
       "57985"
      ]
     },
     "execution_count": 42,
     "metadata": {},
     "output_type": "execute_result"
    }
   ],
   "source": [
    "# los primeros 20 suman 60k\n",
    "data.groupby('automotor_tipo_descripcion')['tramite_tipo'].count().sort_values(ascending= False)[0:20].sum()"
   ]
  },
  {
   "cell_type": "code",
   "execution_count": 9,
   "metadata": {
    "Collapsed": "false"
   },
   "outputs": [
    {
     "data": {
      "text/plain": [
       "automotor_tipo_descripcion\n",
       "SEDAN 4 P             2129\n",
       "SEDAN 3 P              281\n",
       "PICK UP                248\n",
       "FURGON                 170\n",
       "TODO TERRENO            63\n",
       "COUPE                   39\n",
       "FAMILIAR                18\n",
       "TRACTOR                 10\n",
       "CHASIS CON CABINA       10\n",
       "ACOPLADO                 5\n",
       "SEMIRREMOLQUE            5\n",
       "UTILITARIO               4\n",
       "SEDAN                    3\n",
       "TRANSP. PASAJEROS        2\n",
       "COMBI                    2\n",
       "SIN ESPECIFICACION       2\n",
       "CAMION                   1\n",
       "Name: tramite_tipo, dtype: int64"
      ]
     },
     "execution_count": 9,
     "metadata": {},
     "output_type": "execute_result"
    }
   ],
   "source": [
    "data.groupby('automotor_tipo_descripcion')['tramite_tipo'].count().sort_values(ascending= False)[0:40]"
   ]
  },
  {
   "cell_type": "code",
   "execution_count": 206,
   "metadata": {
    "Collapsed": "false"
   },
   "outputs": [],
   "source": [
    "# drop rows where tipo isunique?"
   ]
  },
  {
   "cell_type": "markdown",
   "metadata": {
    "Collapsed": "false"
   },
   "source": [
    "## tips regex\n",
    "\n",
    "    - '.' busca cualquier caracter\n",
    "    - '*' busca cualquier numero de repeticiones de lo que está antes\n",
    "    - '\\s' busca cualquier whitespace\n"
   ]
  },
  {
   "cell_type": "markdown",
   "metadata": {
    "Collapsed": "false"
   },
   "source": [
    "## DECIDÍ AGRUPAR MUCHO MÁS PORQUE SI NO VA A SER UN DELIRIO Y MILLONES DE DUMMIES, GENERALIZO MÁS (SEDAN, PICKUP, ETC)"
   ]
  },
  {
   "cell_type": "code",
   "execution_count": 86,
   "metadata": {
    "Collapsed": "false"
   },
   "outputs": [],
   "source": [
    "#data['automotor_tipo_descripcion'].replace(to_replace= '^(?!SEDAN.3.P$).*$.*SEDAN.*', value= 'SEDAN 4 P', regex= True, inplace= True)\n",
    "# ACCESORIO --> busca todo lo que NO SEA sedan 3.p y si tenga sedan\n",
    "data['automotor_tipo_descripcion'].replace(to_replace= '^(?!.*SEDAN.3.P.*).*SEDAN.*', value= 'SEDAN 4 P', regex= True, inplace= True)"
   ]
  },
  {
   "cell_type": "code",
   "execution_count": 7,
   "metadata": {
    "Collapsed": "false"
   },
   "outputs": [],
   "source": [
    "data['automotor_tipo_descripcion'].replace(to_replace= '.*SEDAN\\s+4.*', value= 'SEDAN 4 P', regex= True, inplace= True)\n",
    "data['automotor_tipo_descripcion'].replace(to_replace= '.*S.*4.*', value= 'SEDAN 4 P', regex= True, inplace= True)\n",
    "data['automotor_tipo_descripcion'].replace(to_replace= '.*BELINA.*4.*', value= 'SEDAN 4 P', regex= True, inplace= True)\n",
    "data['automotor_tipo_descripcion'].replace(to_replace= '.*CUATRO.*PUERTAS.*| .*4.*PUERTAS.*', value= 'SEDAN 4 P', regex= True, inplace= True)\n",
    "\n",
    "data['automotor_tipo_descripcion'].replace(to_replace= '.*SEDAN\\s+5.*', value= 'SEDAN 4 P', regex= True, inplace= True)\n",
    "data['automotor_tipo_descripcion'].replace(to_replace= '.*SEDAN\\s+3.*', value= 'SEDAN 3 P', regex= True, inplace= True)\n",
    "data['automotor_tipo_descripcion'].replace(to_replace= '.*3\\s+P.*', value= 'SEDAN 3 P', regex= True, inplace= True)\n",
    "data['automotor_tipo_descripcion'].replace(to_replace= '.*5\\s+P.*', value= 'SEDAN 4 P', regex= True, inplace= True)\n",
    "\n",
    "\n",
    "# SEDAN 2 PUERTAS ES COUPE\n",
    "data['automotor_tipo_descripcion'].replace(to_replace= '.*SEDAN\\s+2.*', value= 'COUPE', regex= True, inplace= True)\n",
    "data['automotor_tipo_descripcion'].replace(to_replace= '.*2\\s+P.*', value= 'COUPE', regex= True, inplace= True)\n",
    "\n",
    "#TODO LO QUE QUEDA COMO SEDAN PASA A SER 4 PUERTAS\n",
    "data['automotor_tipo_descripcion'].replace(to_replace= '^(?!.*SEDAN.3.P.*).*SEDAN.*', value= 'SEDAN 4 P', regex= True, inplace= True)\n",
    "data['automotor_tipo_descripcion'].replace(to_replace= 'SEDAN$', value= 'SEDAN 4 P', regex= True, inplace= True)\n",
    "\n",
    "#LO QUE QUEDA DE PUERTAS SON SEDANES\n",
    "#data['automotor_tipo_descripcion'].replace(to_replace= '.*PUERTA.*', value= 'SEDAN', regex= True, inplace= True)\n",
    "# SEDAN VA TODO JUNTO (NO, DIVIDIR POR PUERTAS)\n",
    "#data['automotor_tipo_descripcion'].replace(to_replace= '.*S.DAN.*', value= 'SEDAN', regex= True, inplace= True)\n",
    "\n",
    "#data['automotor_tipo_descripcion'].replace(to_replace= 'RURAL\\s+4.*', value= 'RURAL 4 P', regex= True, inplace= True)\n",
    "data['automotor_tipo_descripcion'].replace(to_replace= '.*TRACTOR.*', value= 'TRACTOR', regex= True, inplace= True)\n",
    "data['automotor_tipo_descripcion'].replace(to_replace= 'MINIBUS.*', value= 'MINIBUS', regex= True, inplace= True)\n",
    "data['automotor_tipo_descripcion'].replace(to_replace= '.*FAMILIAR.*|.*FAMLIAR.*', value= 'FAMILIAR', regex= True, inplace= True)\n",
    "data['automotor_tipo_descripcion'].replace(to_replace= 'BERLINA\\s+3.*', value= 'BERLINA 3 P', regex= True, inplace= True)\n",
    "data['automotor_tipo_descripcion'].replace(to_replace= 'BERLINA\\s+4.*', value= 'BERLINA 4 P', regex= True, inplace= True)\n",
    "data['automotor_tipo_descripcion'].replace(to_replace= 'BERLINA\\s+5.*', value= 'BERLINA 5 P', regex= True, inplace= True)\n",
    "#data['automotor_tipo_descripcion'].replace(to_replace= '.*FURGON VID.*', value= 'FURGON VIDRIADO', regex= True, inplace= True)\n",
    "# UNIFICAR TODO FURGON Y FURGONETA\n",
    "data['automotor_tipo_descripcion'].replace(to_replace= '.*FURGON.*|.*FOUR.*', value= 'FURGON', regex= True, inplace= True)\n",
    "data['automotor_tipo_descripcion'].replace(to_replace= '.*SEMIRREMOLQUE.*', value= 'SEMIRREMOLQUE', regex= True, inplace= True)\n",
    "data['automotor_tipo_descripcion'].replace(to_replace= '.*REMOLQUE.*', value= 'SEMIRREMOLQUE', regex= True, inplace= True)\n",
    "data['automotor_tipo_descripcion'].replace(to_replace= '.*PICK.*UP.*', value= 'PICK UP', regex= True, inplace= True)\n",
    "#RURAL PASA A SER FAMILIAR\n",
    "data['automotor_tipo_descripcion'].replace(to_replace= '.*RURAL.*', value= 'FAMILIAR', regex= True, inplace= True)\n",
    "data['automotor_tipo_descripcion'].replace(to_replace= '.*4+X+4.*', value= 'TODO TERRENO', regex= True, inplace= True)\n",
    "# FURGONETA PASA A SER FURGON\n",
    "data['automotor_tipo_descripcion'].replace(to_replace= '.*FURGONETA.*', value= 'FURGON', regex= True, inplace= True)\n",
    "data['automotor_tipo_descripcion'].replace(to_replace= '.*FOURGON.*', value= 'FURGON', regex= True, inplace= True)\n",
    "data['automotor_tipo_descripcion'].replace(to_replace= '.*FUR.*', value= 'FURGON', regex= True, inplace= True)\n",
    "data['automotor_tipo_descripcion'].replace(to_replace= '.*FGON.*|.*FUR.*', value= 'FURGON', regex= True, inplace= True)\n",
    "\n",
    "data['automotor_tipo_descripcion'].replace(to_replace= '.*CH.*', value= 'CHASIS CON CABINA', regex= True, inplace= True)\n",
    "#data['automotor_tipo_descripcion'].replace(to_replace= '.*CH*', value= 'CHASIS CON CABINA', regex= True, inplace= True)\n",
    "# SEDAN Y BERLINA VAN A TERMINAR TODOS JUNTOS\n",
    "data['automotor_tipo_descripcion'].replace(to_replace= '.*BERLINA.*', value= 'SEDAN', regex= True, inplace= True)\n",
    "data['automotor_tipo_descripcion'].replace(to_replace= '.*COUPE.*', value= 'COUPE', regex= True, inplace= True)\n",
    "data['automotor_tipo_descripcion'].replace(to_replace= '.*DEPOR.*', value= 'COUPE', regex= True, inplace= True)\n",
    "data['automotor_tipo_descripcion'].replace(to_replace= '.*PASAJERO.*|.*PERSON.*', value= 'TRANSP. PASAJEROS', regex= True, inplace= True)\n",
    "data['automotor_tipo_descripcion'].replace(to_replace= '.*OMNIBUS.*', value= 'TRANSP. PASAJEROS', regex= True, inplace= True)\n",
    "# TODO ESCOLAR PASA A SER TRANSP PASAJEROS\n",
    "data['automotor_tipo_descripcion'].replace(to_replace= '.*ESC.*', value= 'TRANSP. PASAJEROS', regex= True, inplace= True)\n",
    "\n",
    "# BREAK ES UN FAMILIAR, GUIENSÁ\n",
    "data['automotor_tipo_descripcion'].replace(to_replace= '.*BREAK.*', value= 'FAMILIAR', regex= True, inplace= True)\n",
    "data['automotor_tipo_descripcion'].replace(to_replace= '.*OMBI.*', value= 'COMBI', regex= True, inplace= True)\n",
    "# TODO LO QUE SEA BUS/VAN PASA A SER COMBI\n",
    "data['automotor_tipo_descripcion'].replace(to_replace= '.*BUS.*', value= 'COMBI', regex= True, inplace= True)\n",
    "data['automotor_tipo_descripcion'].replace(to_replace= '.*VAN.*', value= 'COMBI', regex= True, inplace= True)\n",
    "\n",
    "#data['automotor_tipo_descripcion'].replace(to_replace= '.*CAMION/s.*', value= 'CAMION', regex= True, inplace= True)\n",
    "# PASAR CAMIONETA A PICKUP PRIMERO PARA EVITAR LLEVARMELA PUESTA CON CAMION (IGUALMENTE VER COMO EXLCUIR)\n",
    "data['automotor_tipo_descripcion'].replace(to_replace= '.*CAMIONETA.*', value= 'PICK UP', regex= True, inplace= True)\n",
    "data['automotor_tipo_descripcion'].replace(to_replace= '.*CAMION.*', value= 'CAMION', regex= True, inplace= True)\n",
    "# TODO LO QUE TENGA CARGA ES CAMBION\n",
    "data['automotor_tipo_descripcion'].replace(to_replace= '.*CARGA.*', value= 'CAMION', regex= True, inplace= True)\n",
    "\n",
    "# CONVERTIBLE PASA A SER DESCAPOTABLE\n",
    "data['automotor_tipo_descripcion'].replace(to_replace= '.*CONV.*', value= 'DESCAPOTABLE', regex= True, inplace= True)\n",
    "# TODO LO QUE QUEDA CON PTAS ES SEDAN\n",
    "data['automotor_tipo_descripcion'].replace(to_replace= '.*PTAS.*', value= 'SEDAN', regex= True, inplace= True)\n",
    "data['automotor_tipo_descripcion'].replace(to_replace= '.*WAGON.*', value= 'FAMILIAR', regex= True, inplace= True)\n",
    "data['automotor_tipo_descripcion'].replace(to_replace= '.*UTIL.*', value= 'UTILITARIO', regex= True, inplace= True)\n",
    "data['automotor_tipo_descripcion'].replace(to_replace= '.*AUTO.*', value= 'SEDAN', regex= True, inplace= True)\n",
    "data['automotor_tipo_descripcion'].replace(to_replace= '.*JEEP.*', value= 'TODO TERRENO', regex= True, inplace= True)\n",
    "data['automotor_tipo_descripcion'].replace(to_replace= '.*AMB.*', value= 'AMBULANCIA', regex= True, inplace= True)\n",
    "\n",
    "data['automotor_tipo_descripcion'].replace(to_replace= '.*ACOPL.*', value= 'ACOPLADO', regex= True, inplace= True)\n",
    "data['automotor_tipo_descripcion'].replace(to_replace= '.*CASA.*', value= 'CASA RODANTE', regex= True, inplace= True)\n",
    "data['automotor_tipo_descripcion'].replace(to_replace= '.*HOME.*', value= 'CASA RODANTE', regex= True, inplace= True)\n",
    "data['automotor_tipo_descripcion'].replace(to_replace= '.*GRUA.*', value= 'GRUA', regex= True, inplace= True)\n"
   ]
  },
  {
   "cell_type": "code",
   "execution_count": 109,
   "metadata": {
    "Collapsed": "false"
   },
   "outputs": [],
   "source": [
    "#PROTOCOLO 21 SON AUTOS FABRICADOS EN EL MERCOUSR"
   ]
  },
  {
   "cell_type": "code",
   "execution_count": 13,
   "metadata": {
    "Collapsed": "false"
   },
   "outputs": [],
   "source": [
    "# remover los tipos que tienen menos de 2 ocurrencias\n",
    "conteo = data['automotor_tipo_descripcion'].value_counts() < 2\n",
    "remover = conteo[conteo].index\n",
    "data = data[~data.automotor_tipo_descripcion.isin(remover)]\n",
    "# remover SIN ESPECIFICACION\n",
    "data = data[data['automotor_tipo_descripcion'] != 'SIN ESPECIFICACION']"
   ]
  },
  {
   "cell_type": "code",
   "execution_count": 970,
   "metadata": {
    "Collapsed": "false"
   },
   "outputs": [
    {
     "data": {
      "text/plain": [
       "SEDAN 4 P            41421\n",
       "SEDAN 3 P             7540\n",
       "PICK UP               4885\n",
       "FURGON                4376\n",
       "COUPE                 1804\n",
       "TODO TERRENO          1008\n",
       "CHASIS CON CABINA      614\n",
       "FAMILIAR               572\n",
       "TRACTOR                223\n",
       "SEDAN                  216\n",
       "SEMIRREMOLQUE          159\n",
       "TRANSP. PASAJEROS      155\n",
       "CAMION                 107\n",
       "UTILITARIO             100\n",
       "COMBI                   91\n",
       "ACOPLADO                34\n",
       "AMBULANCIA               9\n",
       "OTROS                    8\n",
       "ARENERO                  5\n",
       "GRUA                     4\n",
       "DESCAPOTABLE             4\n",
       "CASA RODANTE             3\n",
       "COMERCIAL LIVIANO        2\n",
       "LIMUSINA                 2\n",
       "Name: automotor_tipo_descripcion, dtype: int64"
      ]
     },
     "execution_count": 970,
     "metadata": {},
     "output_type": "execute_result"
    }
   ],
   "source": [
    "data['automotor_tipo_descripcion'].value_counts()"
   ]
  },
  {
   "cell_type": "code",
   "execution_count": 14,
   "metadata": {
    "Collapsed": "false"
   },
   "outputs": [
    {
     "data": {
      "text/plain": [
       "(61259, 18)"
      ]
     },
     "execution_count": 14,
     "metadata": {},
     "output_type": "execute_result"
    }
   ],
   "source": [
    "data.shape"
   ]
  },
  {
   "cell_type": "markdown",
   "metadata": {
    "Collapsed": "false"
   },
   "source": [
    "## MARCAS"
   ]
  },
  {
   "cell_type": "code",
   "execution_count": 975,
   "metadata": {
    "Collapsed": "false"
   },
   "outputs": [
    {
     "data": {
      "text/plain": [
       "63252"
      ]
     },
     "execution_count": 975,
     "metadata": {},
     "output_type": "execute_result"
    }
   ],
   "source": [
    "data.groupby('automotor_marca_descripcion')['tramite_tipo'].count().sort_values(ascending= False)[0:66].sum()"
   ]
  },
  {
   "cell_type": "code",
   "execution_count": 10,
   "metadata": {
    "Collapsed": "false"
   },
   "outputs": [
    {
     "data": {
      "text/plain": [
       "52"
      ]
     },
     "execution_count": 10,
     "metadata": {},
     "output_type": "execute_result"
    }
   ],
   "source": [
    "data['automotor_marca_descripcion'].nunique()"
   ]
  },
  {
   "cell_type": "code",
   "execution_count": 368,
   "metadata": {
    "Collapsed": "false"
   },
   "outputs": [
    {
     "data": {
      "text/plain": [
       "array(['TORINO'], dtype=object)"
      ]
     },
     "execution_count": 368,
     "metadata": {},
     "output_type": "execute_result"
    }
   ],
   "source": [
    "data[data['automotor_marca_descripcion'].str.contains('RINO')]['automotor_marca_descripcion'].unique()"
   ]
  },
  {
   "cell_type": "code",
   "execution_count": 18,
   "metadata": {
    "Collapsed": "false"
   },
   "outputs": [
    {
     "data": {
      "text/plain": [
       "SMART                11\n",
       "RANDON               10\n",
       "LIFAN                10\n",
       "BONANO               10\n",
       "AST-PRA               9\n",
       "MONTENEGRO            9\n",
       "OPEL                  8\n",
       "PINCEN                8\n",
       "EL DETALLE            8\n",
       "DACIA                 8\n",
       "RASTROJERO DIESEL     7\n",
       "PETINARI              7\n",
       "MIC                   7\n",
       "LADA                  6\n",
       "CORMETAL              6\n",
       "DS                    5\n",
       "PORSCHE               5\n",
       "TRENQUEMOLQUE         4\n",
       "GOMATRO               4\n",
       "TORINO                4\n",
       "SOLA Y BRUSA          4\n",
       "GAMMA                 3\n",
       "ASIA                  3\n",
       "INNOCENTI             3\n",
       "A.F.F.                3\n",
       "DFM                   3\n",
       "SANXING               2\n",
       "Name: automotor_marca_descripcion, dtype: int64"
      ]
     },
     "execution_count": 18,
     "metadata": {},
     "output_type": "execute_result"
    }
   ],
   "source": [
    "data['automotor_marca_descripcion'].value_counts()[40:67]"
   ]
  },
  {
   "cell_type": "code",
   "execution_count": 11,
   "metadata": {
    "Collapsed": "false"
   },
   "outputs": [],
   "source": [
    "data['automotor_marca_descripcion'].replace(to_replace= 'W.*N$|V.*N$|.*VOLKSWAGEN.*|.*VW.*', value= 'VOLKSWAGEN', regex= True, inplace= True)\n",
    "data['automotor_marca_descripcion'].replace(to_replace= '^R.*T$|.*RENAULT.*|.*RENA.*', value= 'RENAULT', regex= True, inplace= True)\n",
    "data['automotor_marca_descripcion'].replace(to_replace= '.*FIAT.*|.*FIA.*', value= 'FIAT', regex= True, inplace= True)\n",
    "data['automotor_marca_descripcion'].replace(to_replace= '.*FORD.*', value= 'FORD', regex= True, inplace= True)\n",
    "data['automotor_marca_descripcion'].replace(to_replace= '.*GMC.*|.*MOT.*|^C.*T$|.*CHEV.*', value= 'CHEVROLET', regex= True, inplace= True)\n",
    "data['automotor_marca_descripcion'].replace(to_replace= '.*PEUGE.*', value= 'PEUGEOT', regex= True, inplace= True)\n",
    "data['automotor_marca_descripcion'].replace(to_replace= '.*CITR.*', value= 'CITROEN', regex= True, inplace= True)\n",
    "data['automotor_marca_descripcion'].replace(to_replace= '.*TOY.*', value= 'TOYOTA', regex= True, inplace= True)\n",
    "data['automotor_marca_descripcion'].replace(to_replace= '.*BEN.*', value= 'MERCEDES BENZ', regex= True, inplace= True)\n",
    "data['automotor_marca_descripcion'].replace(to_replace= '.*SUZ.*|.*UKI.*', value= 'SUZUKI', regex= True, inplace= True)\n",
    "data['automotor_marca_descripcion'].replace(to_replace= '.*NIS.*', value= 'NISSAN', regex= True, inplace= True)\n",
    "data['automotor_marca_descripcion'].replace(to_replace= '^B.*W', value= 'BMW', regex= True, inplace= True)\n",
    "data['automotor_marca_descripcion'].replace(to_replace= '.*JEEP.*', value= 'JEEP', regex= True, inplace= True)\n",
    "data['automotor_marca_descripcion'].replace(to_replace= '.*KIA.*', value= 'KIA', regex= True, inplace= True)\n",
    "data['automotor_marca_descripcion'].replace(to_replace= '.*MIT.*', value= 'MITSUBISHI', regex= True, inplace= True)\n",
    "data['automotor_marca_descripcion'].replace(to_replace= '.*ALF.*', value= 'ALFA ROMEO', regex= True, inplace= True)\n",
    "data['automotor_marca_descripcion'].replace(to_replace= '.*DODGE.*|RAM$', value= 'DODGE', regex= True, inplace= True)\n",
    "data['automotor_marca_descripcion'].replace(to_replace= '.*SEAT.*', value= 'SEAT', regex= True, inplace= True)\n",
    "data['automotor_marca_descripcion'].replace(to_replace= '.*ROV.*', value= 'LAND ROVER', regex= True, inplace= True)\n",
    "data['automotor_marca_descripcion'].replace(to_replace= '.*SCANIA.*', value= 'SCANIA', regex= True, inplace= True)\n",
    "data['automotor_marca_descripcion'].replace(to_replace= '.*AGRA.*', value= 'DEUTZ AGRALE', regex= True, inplace= True)\n",
    "\n",
    "# EXCEPCIONES\n"
   ]
  },
  {
   "cell_type": "code",
   "execution_count": 19,
   "metadata": {
    "Collapsed": "false"
   },
   "outputs": [],
   "source": [
    "# remover los tipos que tienen menos de 3 ocurrencias\n",
    "conteo2 = data['automotor_marca_descripcion'].value_counts() <= 3\n",
    "remover2 = conteo2[conteo2].index\n",
    "data = data[~data.automotor_marca_descripcion.isin(remover2)]\n"
   ]
  },
  {
   "cell_type": "markdown",
   "metadata": {
    "Collapsed": "false"
   },
   "source": [
    "## MODELO?"
   ]
  },
  {
   "cell_type": "code",
   "execution_count": 939,
   "metadata": {
    "Collapsed": "false"
   },
   "outputs": [
    {
     "data": {
      "text/plain": [
       "58905"
      ]
     },
     "execution_count": 939,
     "metadata": {},
     "output_type": "execute_result"
    }
   ],
   "source": [
    "data.groupby('automotor_modelo_descripcion')['tramite_tipo'].count().sort_values(ascending= False)[0:185].sum()"
   ]
  },
  {
   "cell_type": "code",
   "execution_count": 14,
   "metadata": {
    "Collapsed": "false"
   },
   "outputs": [
    {
     "data": {
      "text/plain": [
       "291"
      ]
     },
     "execution_count": 14,
     "metadata": {},
     "output_type": "execute_result"
    }
   ],
   "source": [
    "data['automotor_modelo_descripcion'].nunique()"
   ]
  },
  {
   "cell_type": "code",
   "execution_count": 940,
   "metadata": {
    "Collapsed": "false"
   },
   "outputs": [
    {
     "data": {
      "text/plain": [
       "array(['156 2.0TS', '156 2.4 JTD', '11569', '156 2.0 TS',\n",
       "       '508 ALLURE N 156 CV TIP', '156 2.5 V6 24V'], dtype=object)"
      ]
     },
     "execution_count": 940,
     "metadata": {},
     "output_type": "execute_result"
    }
   ],
   "source": [
    "data[data['automotor_modelo_descripcion'].str.contains('156')]['automotor_modelo_descripcion'].unique()"
   ]
  },
  {
   "cell_type": "code",
   "execution_count": 15,
   "metadata": {
    "Collapsed": "false"
   },
   "outputs": [
    {
     "data": {
      "text/plain": [
       "IMPREZA 1.6 4D GL 5S            1\n",
       "XV                              1\n",
       "LANOS 1.5 S                     1\n",
       "ONE COUNTRYMAN                  1\n",
       "330 D                           1\n",
       "NISSAN PATHFINDER TD27 5M/T     1\n",
       "SENTRA TEKNA XTRONIC CVT        1\n",
       "PB F2 HD 12,80 M.               1\n",
       "SENTRA SENSE PURE DRIVE         1\n",
       "KOLEOS 2.5 EXPRESSION           1\n",
       "PREMIUM 380 DXI                 1\n",
       "CRONOS                          1\n",
       "320D                            1\n",
       "C 200                           1\n",
       "IBIZA                           1\n",
       "KICKS EXCLUSIVE CVT F2          1\n",
       "X-TERRA SE                      1\n",
       "VITO 111 CDI                    1\n",
       "450 E 31 T                      1\n",
       "450E37T                         1\n",
       "CORONA 2.0                      1\n",
       "SFPLA 15,5 2+1E                 1\n",
       "SCIROCCO 1.4 TSI DSG            1\n",
       "L 1215/48                       1\n",
       "CABINA DOBLE 4X4 2.5 TDI        1\n",
       "M 3                             1\n",
       "SORRENTO EX V6                  1\n",
       "LAND CRUISER PRADO VX A/T       1\n",
       "KOLEOS DYNAMIQUE 4X4 MT         1\n",
       "X1 20I                          1\n",
       "SPORTAGE 2.0 MRDI 4WD           1\n",
       "205                             1\n",
       "ORION                           1\n",
       "L-1624                          1\n",
       "LK 2325                         1\n",
       "ARRIZO 5 1.5 LUXURY CVT         1\n",
       "FOISON                          1\n",
       "SBV 3                           1\n",
       "VERSA SENSE MT PURE DRIVE F2    1\n",
       "145                             1\n",
       "Name: automotor_modelo_descripcion, dtype: int64"
      ]
     },
     "execution_count": 15,
     "metadata": {},
     "output_type": "execute_result"
    }
   ],
   "source": [
    "data['automotor_modelo_descripcion'].value_counts()[180:220]"
   ]
  },
  {
   "cell_type": "code",
   "execution_count": 13,
   "metadata": {
    "Collapsed": "false"
   },
   "outputs": [],
   "source": [
    "data['automotor_modelo_descripcion'].replace(to_replace= '.*GOL\\s.*', value= 'GOL', regex= True, inplace= True)\n",
    "data['automotor_tipo_descripcion'].replace(to_replace= '^(?!.*GOLF.*).*GOL.*', value= 'GOL', regex= True, inplace= True)\n",
    "data['automotor_modelo_descripcion'].replace(to_replace= '.*GOLF\\s.*', value= 'GOLF', regex= True, inplace= True)\n",
    "\n",
    "data['automotor_modelo_descripcion'].replace(to_replace= '.*RENAULT\\s+9.*|.*RENAULT9.*|^9\\s.*|.*R-9.*', value= 'RENAULT 9', regex= True, inplace= True)\n",
    "data['automotor_modelo_descripcion'].replace(to_replace= '.*RENAULT\\s+19.*|.*RENAULT19.*|^19\\s.*|.*R-19.*', value= 'RENAULT 19', regex= True, inplace= True)\n",
    "data['automotor_modelo_descripcion'].replace(to_replace= '.*RENAULT\\s+11.*|.*RENAULT-11.*|^11\\s.*|.*R-11.*', value= 'RENAULT 11', regex= True, inplace= True)\n",
    "data['automotor_modelo_descripcion'].replace(to_replace= '.*RENAULT\\s+12.*|.*RENAULT-12.*|^12\\s.*|.*R-12.*', value= 'RENAULT 12', regex= True, inplace= True)\n",
    "\n",
    "data['automotor_modelo_descripcion'].replace(to_replace= '.*FIORINO.*', value= 'FIORINO', regex= True, inplace= True)\n",
    "data['automotor_modelo_descripcion'].replace(to_replace= '.*FOX.*', value= 'FOX', regex= True, inplace= True)\n",
    "data['automotor_modelo_descripcion'].replace(to_replace= '.*CORSA.*', value= 'CORSA', regex= True, inplace= True)\n",
    "data['automotor_modelo_descripcion'].replace(to_replace= '.*UNO.*', value= 'UNO', regex= True, inplace= True)\n",
    "data['automotor_modelo_descripcion'].replace(to_replace= '^KA\\s.*', value= 'KA', regex= True, inplace= True)\n",
    "# 147 Y TODOS SUS DERIVADOS\n",
    "data['automotor_modelo_descripcion'].replace(to_replace= '.*SPAZ.*|.*VIVACE.*|^147.*', value= '147', regex= True, inplace= True)\n",
    "\n",
    "data['automotor_modelo_descripcion'].replace(to_replace= '.*VOY.*', value= 'VOYAGE', regex= True, inplace= True)\n",
    "data['automotor_modelo_descripcion'].replace(to_replace= '^CLASSIC.*', value= 'CLASSIC', regex= True, inplace= True)\n",
    "data['automotor_modelo_descripcion'].replace(to_replace= '^ECO.*', value= 'ECOSPORT', regex= True, inplace= True)\n",
    "data['automotor_modelo_descripcion'].replace(to_replace= '^ESC.*', value= 'ESCORT', regex= True, inplace= True)\n",
    "data['automotor_modelo_descripcion'].replace(to_replace= '.*BORA.*', value= 'BORA', regex= True, inplace= True)\n",
    "data['automotor_modelo_descripcion'].replace(to_replace= '^MERI.*', value= 'MERIVA', regex= True, inplace= True)\n",
    "data['automotor_modelo_descripcion'].replace(to_replace= '.*SEND.*', value= 'SENDA', regex= True, inplace= True)\n",
    "data['automotor_modelo_descripcion'].replace(to_replace= '.*F.*?100.*', value= 'F-100', regex= True, inplace= True) #(NOTHING OR MORE BETWEEN)\n",
    "data['automotor_modelo_descripcion'].replace(to_replace= '.*F.*?150.*', value= 'F-150', regex= True, inplace= True) #(NOTHING OR MORE BETWEEN)\n",
    "data['automotor_modelo_descripcion'].replace(to_replace= '.*F.*?350.*', value= 'F-350', regex= True, inplace= True) #(NOTHING OR MORE BETWEEN)\n",
    "data['automotor_modelo_descripcion'].replace(to_replace= '.*ASTRA.*', value= 'ASTRA', regex= True, inplace= True) #(NOTHING OR MORE BETWEEN)\n",
    "data['automotor_modelo_descripcion'].replace(to_replace= '.*SIENA.*', value= 'SIENA', regex= True, inplace= True) #(NOTHING OR MORE BETWEEN)\n",
    "data['automotor_modelo_descripcion'].replace(to_replace= '.*VENTO.*', value= 'VENTO', regex= True, inplace= True) #(NOTHING OR MORE BETWEEN)\n",
    "data['automotor_modelo_descripcion'].replace(to_replace= '.*DUNA.*', value= 'DUNA', regex= True, inplace= True) #(NOTHING OR MORE BETWEEN)\n",
    "data['automotor_modelo_descripcion'].replace(to_replace= '^FUN.*', value= 'FUN', regex= True, inplace= True) #(NOTHING OR MORE BETWEEN)\n",
    "data['automotor_modelo_descripcion'].replace(to_replace= '.*PART.*|.*PARP.*|^PAR.*', value= 'PARTNER', regex= True, inplace= True) #(NOTHING OR MORE BETWEEN)\n",
    "data['automotor_modelo_descripcion'].replace(to_replace= '.*PALIO.*', value= 'PALIO', regex= True, inplace= True) #(NOTHING OR MORE BETWEEN)\n",
    "data['automotor_modelo_descripcion'].replace(to_replace= '.*FIESTA.*', value= 'FIESTA', regex= True, inplace= True) #(NOTHING OR MORE BETWEEN)\n",
    "data['automotor_modelo_descripcion'].replace(to_replace= '.*TWINGO.*', value= 'TWINGO', regex= True, inplace= True) #(NOTHING OR MORE BETWEEN)\n",
    "data['automotor_modelo_descripcion'].replace(to_replace= '.*105\\s+.*|^105.*|.*\\s+105.*', value= '105', regex= True, inplace= True) #(NOTHING OR MORE BETWEEN)\n",
    "data['automotor_modelo_descripcion'].replace(to_replace= '.*106\\s+.*|^106.*|.*\\s+106.*', value= '106', regex= True, inplace= True) #(NOTHING OR MORE BETWEEN)\n",
    "data['automotor_modelo_descripcion'].replace(to_replace= '.*205\\s+.*|^205.*|.*\\s+205.*', value= '205', regex= True, inplace= True) #(NOTHING OR MORE BETWEEN)\n",
    "data['automotor_modelo_descripcion'].replace(to_replace= '.*206\\s+.*|^206.*|.*\\s+206.*', value= '206', regex= True, inplace= True) #(NOTHING OR MORE BETWEEN)\n",
    "data['automotor_modelo_descripcion'].replace(to_replace= '.*207\\s+.*|^207.*|.*\\s+207.*', value= '207', regex= True, inplace= True) #(NOTHING OR MORE BETWEEN)\n",
    "data['automotor_modelo_descripcion'].replace(to_replace= '.*208\\s+.*|^208.*|.*\\s+208.*', value= '208', regex= True, inplace= True) #(NOTHING OR MORE BETWEEN)\n",
    "data['automotor_modelo_descripcion'].replace(to_replace= '.*2008\\s+.*|^2008.*|.*\\s+2008.*', value= '2008', regex= True, inplace= True) #(NOTHING OR MORE BETWEEN)\n",
    "data['automotor_modelo_descripcion'].replace(to_replace= '.*305\\s+.*|^305.*|.*\\s+305.*', value= '305', regex= True, inplace= True) #(NOTHING OR MORE BETWEEN)\n",
    "data['automotor_modelo_descripcion'].replace(to_replace= '.*306\\s+.*|^306.*|.*\\s+306.*', value= '306', regex= True, inplace= True) #(NOTHING OR MORE BETWEEN)\n",
    "data['automotor_modelo_descripcion'].replace(to_replace= '.*307\\s+.*|^307.*|.*\\s+307.*', value= '307', regex= True, inplace= True) #(NOTHING OR MORE BETWEEN)\n",
    "data['automotor_modelo_descripcion'].replace(to_replace= '.*308\\s+.*|^308.*|.*\\s+308.*', value= '308', regex= True, inplace= True) #(NOTHING OR MORE BETWEEN)\n",
    "data['automotor_modelo_descripcion'].replace(to_replace= '.*405\\s+.*|^405.*|.*\\s+405.*', value= '405', regex= True, inplace= True) #(NOTHING OR MORE BETWEEN)\n",
    "data['automotor_modelo_descripcion'].replace(to_replace= '.*406\\s+.*|^406.*|.*\\s+406.*', value= '406', regex= True, inplace= True) #(NOTHING OR MORE BETWEEN)\n",
    "data['automotor_modelo_descripcion'].replace(to_replace= '.*407\\s+.*|^407.*|.*\\s+407.*', value= '407', regex= True, inplace= True) #(NOTHING OR MORE BETWEEN)\n",
    "data['automotor_modelo_descripcion'].replace(to_replace= '.*408\\s+.*|^408.*|.*\\s+408.*', value= '408', regex= True, inplace= True) #(NOTHING OR MORE BETWEEN)\n",
    "data['automotor_modelo_descripcion'].replace(to_replace= '.*504\\s+.*|^504.*|.*\\s+504.*', value= '504', regex= True, inplace= True) #(NOTHING OR MORE BETWEEN)\n",
    "data['automotor_modelo_descripcion'].replace(to_replace= '.*505\\s+.*|^505.*|.*\\s+505.*', value= '505', regex= True, inplace= True) #(NOTHING OR MORE BETWEEN)\n",
    "\n",
    "data['automotor_modelo_descripcion'].replace(to_replace= '.*POLO.*', value= 'POLO', regex= True, inplace= True) #(NOTHING OR MORE BETWEEN)\n",
    "data['automotor_modelo_descripcion'].replace(to_replace= '.*C3\\s+.*', value= 'C3', regex= True, inplace= True) #(NOTHING OR MORE BETWEEN)\n",
    "data['automotor_modelo_descripcion'].replace(to_replace= '.*BERLINGO.*|^BER.*', value= 'BERLINGO', regex= True, inplace= True) #(NOTHING OR MORE BETWEEN)\n",
    "data['automotor_modelo_descripcion'].replace(to_replace= '.*ONIX.*', value= 'ONIX', regex= True, inplace= True) #(NOTHING OR MORE BETWEEN)\n",
    "data['automotor_modelo_descripcion'].replace(to_replace= '.*FOCUS.*', value= 'FOCUS', regex= True, inplace= True) #(NOTHING OR MORE BETWEEN)\n",
    "data['automotor_modelo_descripcion'].replace(to_replace= '.*TIGGO.*', value= 'TIGGO', regex= True, inplace= True) #(NOTHING OR MORE BETWEEN)\n",
    "data['automotor_modelo_descripcion'].replace(to_replace= '.*POINTER.*', value= 'POINTER', regex= True, inplace= True) #(NOTHING OR MORE BETWEEN)\n",
    "data['automotor_modelo_descripcion'].replace(to_replace= '.*AVEO.*', value= 'AVEO', regex= True, inplace= True) #(NOTHING OR MORE BETWEEN)\n",
    "data['automotor_modelo_descripcion'].replace(to_replace= '.*CLIO.*', value= 'CLIO', regex= True, inplace= True) #(NOTHING OR MORE BETWEEN)\n",
    "data['automotor_modelo_descripcion'].replace(to_replace= '.*ZAFIRA.*', value= 'ZAFIRA', regex= True, inplace= True) #(NOTHING OR MORE BETWEEN)\n",
    "data['automotor_modelo_descripcion'].replace(to_replace= '.*PUNTO.*', value= 'PUNTO', regex= True, inplace= True) #(NOTHING OR MORE BETWEEN)\n",
    "data['automotor_modelo_descripcion'].replace(to_replace= '.*AGILE.*', value= 'AGILE', regex= True, inplace= True) #(NOTHING OR MORE BETWEEN)\n",
    "data['automotor_modelo_descripcion'].replace(to_replace= '.*KANGOO.*', value= 'KANGOO', regex= True, inplace= True) #(NOTHING OR MORE BETWEEN)\n",
    "data['automotor_modelo_descripcion'].replace(to_replace= '.*HILUX.*', value= 'HILUX', regex= True, inplace= True) #(NOTHING OR MORE BETWEEN)\n",
    "data['automotor_modelo_descripcion'].replace(to_replace= '.*SURAN.*', value= 'SURAN', regex= True, inplace= True) #(NOTHING OR MORE BETWEEN)\n",
    "data['automotor_modelo_descripcion'].replace(to_replace= '^EXPRES.*', value= 'EXPRESS', regex= True, inplace= True) #(NOTHING OR MORE BETWEEN)\n",
    "data['automotor_modelo_descripcion'].replace(to_replace= '.*VECTRA.*', value= 'VECTRA', regex= True, inplace= True) #(NOTHING OR MORE BETWEEN)\n",
    "data['automotor_modelo_descripcion'].replace(to_replace= '.*COURIER.*', value= 'COURIER', regex= True, inplace= True) #(NOTHING OR MORE BETWEEN)\n",
    "data['automotor_modelo_descripcion'].replace(to_replace= '.*CELTA.*', value= 'CELTA', regex= True, inplace= True) #(NOTHING OR MORE BETWEEN)\n",
    "data['automotor_modelo_descripcion'].replace(to_replace= '.*FIT.*', value= 'FIT', regex= True, inplace= True) #(NOTHING OR MORE BETWEEN)\n",
    "data['automotor_modelo_descripcion'].replace(to_replace= '.*ORION.*', value= 'ORION', regex= True, inplace= True) #(NOTHING OR MORE BETWEEN)\n",
    "data['automotor_modelo_descripcion'].replace(to_replace= '.*RANGER.*', value= 'RANGER', regex= True, inplace= True) #(NOTHING OR MORE BETWEEN)\n",
    "data['automotor_modelo_descripcion'].replace(to_replace= '.*SAVEIRO.*', value= 'SAVEIRO', regex= True, inplace= True) #(NOTHING OR MORE BETWEEN)\n",
    "data['automotor_modelo_descripcion'].replace(to_replace= '.*SANDERO.*', value= 'SANDERO', regex= True, inplace= True) #(NOTHING OR MORE BETWEEN)\n",
    "data['automotor_modelo_descripcion'].replace(to_replace= '.*COROL.*', value= 'COROLLA', regex= True, inplace= True) #(NOTHING OR MORE BETWEEN)\n",
    "data['automotor_modelo_descripcion'].replace(to_replace= '.*MEGAN.*', value= 'MEGANE', regex= True, inplace= True) #(NOTHING OR MORE BETWEEN)\n",
    "data['automotor_modelo_descripcion'].replace(to_replace= '.*CIVIC.*', value= 'CIVIC', regex= True, inplace= True) #(NOTHING OR MORE BETWEEN)\n",
    "data['automotor_modelo_descripcion'].replace(to_replace= '.*S10.*', value= 'S10', regex= True, inplace= True) #(NOTHING OR MORE BETWEEN)\n",
    "data['automotor_modelo_descripcion'].replace(to_replace= '.*PRISMA.*', value= 'PRISMA', regex= True, inplace= True) #(NOTHING OR MORE BETWEEN)\n",
    "data['automotor_modelo_descripcion'].replace(to_replace= '.*LOGAN.*', value= 'LOGAN', regex= True, inplace= True) #(NOTHING OR MORE BETWEEN)\n",
    "data['automotor_modelo_descripcion'].replace(to_replace= '^HIGH.*', value= 'HIGH', regex= True, inplace= True) #(NOTHING OR MORE BETWEEN)\n",
    "data['automotor_modelo_descripcion'].replace(to_replace= '.*SARA.*|.*PICAS.*|.*XSARA.*', value= 'XSARA', regex= True, inplace= True) #(NOTHING OR MORE BETWEEN)\n",
    "data['automotor_modelo_descripcion'].replace(to_replace= '.*MOVE.*', value= 'MOVE', regex= True, inplace= True) #(NOTHING OR MORE BETWEEN)\n",
    "data['automotor_modelo_descripcion'].replace(to_replace= '.*CRUZE.*', value= 'CRUZE', regex= True, inplace= True) #(NOTHING OR MORE BETWEEN)\n",
    "data['automotor_modelo_descripcion'].replace(to_replace= '.*ETIOS.*', value= 'ETIOS', regex= True, inplace= True) #(NOTHING OR MORE BETWEEN)\n",
    "data['automotor_modelo_descripcion'].replace(to_replace= '.*SPIN\\s+.*', value= 'SPIN', regex= True, inplace= True) #(NOTHING OR MORE BETWEEN)\n",
    "data['automotor_modelo_descripcion'].replace(to_replace= '.*C.*?RV.*', value= 'CRV', regex= True, inplace= True) #(NOTHING OR MORE BETWEEN)\n",
    "data['automotor_modelo_descripcion'].replace(to_replace= '.*H.*?RV.*', value= 'HRV', regex= True, inplace= True) #(NOTHING OR MORE BETWEEN)\n",
    "data['automotor_modelo_descripcion'].replace(to_replace= '.*REGATTA.*|.*REGAT.*', value= 'REGATTA', regex= True, inplace= True) #(NOTHING OR MORE BETWEEN)\n",
    "data['automotor_modelo_descripcion'].replace(to_replace= '.*CADD.*', value= 'CADDY', regex= True, inplace= True)\n",
    "data['automotor_modelo_descripcion'].replace(to_replace= '.*EXPLOR.*', value= 'EXPLORER', regex= True, inplace= True)\n",
    "data['automotor_modelo_descripcion'].replace(to_replace= '.*TRACK.*', value= 'TRACKER', regex= True, inplace= True)\n",
    "data['automotor_modelo_descripcion'].replace(to_replace= '.*MOBI.*', value= 'MOBI', regex= True, inplace= True)\n",
    "data['automotor_modelo_descripcion'].replace(to_replace= '^PT.*', value= 'PT CRUISER', regex= True, inplace= True)\n",
    "data['automotor_modelo_descripcion'].replace(to_replace= '.*FALCON.*', value= 'FALCON', regex= True, inplace= True)\n",
    "data['automotor_modelo_descripcion'].replace(to_replace= '.*C3\\s+.*', value= 'C3', regex= True, inplace= True)\n",
    "data['automotor_modelo_descripcion'].replace(to_replace= '.*C4\\s+.*', value= 'C4', regex= True, inplace= True) \n",
    "data['automotor_modelo_descripcion'].replace(to_replace= '.*C5\\s+.*', value= 'C5', regex= True, inplace= True)\n",
    "data['automotor_modelo_descripcion'].replace(to_replace= '.*SONIC.*', value= 'SONIC', regex= True, inplace= True) \n",
    "data['automotor_modelo_descripcion'].replace(to_replace= '.*PASSAT.*', value= 'PASSAT', regex= True, inplace= True) \n",
    "data['automotor_modelo_descripcion'].replace(to_replace= '.*BOXER.*', value= 'BOXER', regex= True, inplace= True)\n",
    "data['automotor_modelo_descripcion'].replace(to_replace= '.*TRAF.*', value= 'TRAFIC', regex= True, inplace= True)\n",
    "data['automotor_modelo_descripcion'].replace(to_replace= '^500\\s+.*', value= '500', regex= True, inplace= True)\n",
    "data['automotor_modelo_descripcion'].replace(to_replace= '^CARG.*', value= 'CARGO', regex= True, inplace= True) \n",
    "data['automotor_modelo_descripcion'].replace(to_replace= '.*MONDEO.*', value= '500', regex= True, inplace= True)\n",
    "data['automotor_modelo_descripcion'].replace(to_replace= '.*SPRINT.*', value= 'SPRINTER', regex= True, inplace= True) \n",
    "data['automotor_modelo_descripcion'].replace(to_replace= '.*STRADA.*', value= 'STRADA', regex= True, inplace= True) \n",
    "data['automotor_modelo_descripcion'].replace(to_replace= '.*NEON.*', value= 'NEON', regex= True, inplace= True) \n",
    "data['automotor_modelo_descripcion'].replace(to_replace= '.*BLAZER.*', value= 'BLAZER', regex= True, inplace= True)\n",
    "data['automotor_modelo_descripcion'].replace(to_replace= '.*TRANSIT.*', value= 'TRANSIT', regex= True, inplace= True) \n",
    "data['automotor_modelo_descripcion'].replace(to_replace= '.*JOURNEY.*', value= 'JOURNEY', regex= True, inplace= True) \n",
    "data['automotor_modelo_descripcion'].replace(to_replace= '.*TAKE.*', value= 'TAKE', regex= True, inplace= True) \n",
    "data['automotor_modelo_descripcion'].replace(to_replace= '^ARGO.*', value= 'ARGO', regex= True, inplace= True) \n",
    "data['automotor_modelo_descripcion'].replace(to_replace= '.*FLUENCE.*', value= 'FLUENCE', regex= True, inplace= True) \n",
    "data['automotor_modelo_descripcion'].replace(to_replace= '.*TIIDA.*', value= 'TIIDA', regex= True, inplace= True) \n",
    "data['automotor_modelo_descripcion'].replace(to_replace= '^A4.*', value= 'A4', regex= True, inplace= True) \n",
    "data['automotor_modelo_descripcion'].replace(to_replace= '^A5.*', value= 'A5', regex= True, inplace= True) \n",
    "data['automotor_modelo_descripcion'].replace(to_replace= '.*DS3.*', value= 'DS3', regex= True, inplace= True) \n",
    "data['automotor_modelo_descripcion'].replace(to_replace= '.*SORENTO.*', value= 'SORENTO', regex= True, inplace= True) \n",
    "data['automotor_modelo_descripcion'].replace(to_replace= '.*ATOS.*', value= 'ATOS', regex= True, inplace= True) \n",
    "data['automotor_modelo_descripcion'].replace(to_replace= '^LS.*', value= 'LS', regex= True, inplace= True) \n",
    "data['automotor_modelo_descripcion'].replace(to_replace= '^146.*', value= '146', regex= True, inplace= True) \n",
    "data['automotor_modelo_descripcion'].replace(to_replace= '.*MASTER.*', value= 'MASTER', regex= True, inplace= True) \n",
    "data['automotor_modelo_descripcion'].replace(to_replace= '.*Q5.*', value= 'Q5', regex= True, inplace= True) \n",
    "data['automotor_modelo_descripcion'].replace(to_replace= '.*AMAROK.*', value= 'AMAROK', regex= True, inplace= True) \n",
    "data['automotor_modelo_descripcion'].replace(to_replace= '.*ACCORD.*', value= 'ACCORD', regex= True, inplace= True) \n",
    "data['automotor_modelo_descripcion'].replace(to_replace= '.*MB.*', value= 'MB', regex= True, inplace= True) \n",
    "data['automotor_modelo_descripcion'].replace(to_replace= '.*IDEA.*', value= 'IDEA', regex= True, inplace= True) \n",
    "data['automotor_modelo_descripcion'].replace(to_replace= '.*GACEL.*', value= 'GACEL', regex= True, inplace= True) \n",
    "data['automotor_modelo_descripcion'].replace(to_replace= '^A3.*', value= 'A3', regex= True, inplace= True) \n",
    "data['automotor_modelo_descripcion'].replace(to_replace= '.*SW4.*', value= 'SW4', regex= True, inplace= True) \n",
    "data['automotor_modelo_descripcion'].replace(to_replace= '.*L160.*', value= 'L160', regex= True, inplace= True) \n",
    "data['automotor_modelo_descripcion'].replace(to_replace= '^3008.*', value= '3008', regex= True, inplace= True) \n",
    "data['automotor_modelo_descripcion'].replace(to_replace= '.*RENEGADE.*', value= 'RENEGADE', regex= True, inplace= True) \n",
    "data['automotor_modelo_descripcion'].replace(to_replace= '.*CRONO.*', value= 'CRONOS', regex= True, inplace= True) \n",
    "data['automotor_modelo_descripcion'].replace(to_replace= '.*COBALT.*', value= 'COBALT', regex= True, inplace= True) \n",
    "data['automotor_modelo_descripcion'].replace(to_replace= '.*DUSTER.*', value= 'DUSTER', regex= True, inplace= True) \n",
    "data['automotor_modelo_descripcion'].replace(to_replace= '.*A160.*', value= 'A160', regex= True, inplace= True) \n",
    "data['automotor_modelo_descripcion'].replace(to_replace= '.*4000.*', value= 'F4000', regex= True, inplace= True) \n",
    "data['automotor_modelo_descripcion'].replace(to_replace= '.*SWIFT.*', value= 'SIWFT', regex= True, inplace= True) \n",
    "data['automotor_modelo_descripcion'].replace(to_replace= '.*GALAXY.*', value= 'GALAXY', regex= True, inplace= True) \n",
    "data['automotor_modelo_descripcion'].replace(to_replace= '.*TIPO.*', value= 'TIPO', regex= True, inplace= True) \n",
    "data['automotor_modelo_descripcion'].replace(to_replace= '.*TORO.*', value= 'TORO', regex= True, inplace= True) \n",
    "data['automotor_modelo_descripcion'].replace(to_replace= '.*CAPTIVA.*', value= 'CAPTIVA', regex= True, inplace= True) \n",
    "data['automotor_modelo_descripcion'].replace(to_replace= '.*CARAVAN.*', value= 'CARAVAN', regex= True, inplace= True) \n",
    "data['automotor_modelo_descripcion'].replace(to_replace= '.*SHARAN.*', value= 'SHARAN', regex= True, inplace= True) \n",
    "data['automotor_modelo_descripcion'].replace(to_replace= '.*SANTAMO.*', value= 'SANTAMO', regex= True, inplace= True) \n",
    "data['automotor_modelo_descripcion'].replace(to_replace= '.*ACCENT.*', value= 'ACCENT', regex= True, inplace= True) \n",
    "data['automotor_modelo_descripcion'].replace(to_replace= '.*V.*1500.*|^1500.*', value= '1500', regex= True, inplace= True) \n",
    "data['automotor_modelo_descripcion'].replace(to_replace= '.*DURAMO.*', value= 'DURAMO', regex= True, inplace= True) \n",
    "data['automotor_modelo_descripcion'].replace(to_replace= '.*SANTA FE.*', value= 'SANTA FE', regex= True, inplace= True) \n",
    "data['automotor_modelo_descripcion'].replace(to_replace= '.*CHEROKEE.*', value= 'CHEROKEE', regex= True, inplace= True) \n",
    "data['automotor_modelo_descripcion'].replace(to_replace= '.*323.*', value= '323', regex= True, inplace= True) \n",
    "data['automotor_modelo_descripcion'].replace(to_replace= '.*C15.*', value= 'C15', regex= True, inplace= True) \n",
    "data['automotor_modelo_descripcion'].replace(to_replace= '.*RAM.*', value= 'RAM', regex= True, inplace= True) \n",
    "data['automotor_modelo_descripcion'].replace(to_replace= '.*QQ.*', value= 'QQ', regex= True, inplace= True) \n",
    "data['automotor_modelo_descripcion'].replace(to_replace= '.*FRONT.*', value= 'FRONTIER', regex= True, inplace= True) \n",
    "data['automotor_modelo_descripcion'].replace(to_replace= '.*STILO.*', value= 'STILO', regex= True, inplace= True) \n",
    "data['automotor_modelo_descripcion'].replace(to_replace= '.*DUCATO.*', value= 'DUCATO', regex= True, inplace= True) \n",
    "data['automotor_modelo_descripcion'].replace(to_replace= '^120.*', value= '120', regex= True, inplace= True) \n",
    "data['automotor_modelo_descripcion'].replace(to_replace= '.*416.*', value= '416', regex= True, inplace= True) \n",
    "data['automotor_modelo_descripcion'].replace(to_replace= '.*145.*', value= '145', regex= True, inplace= True) \n",
    "data['automotor_modelo_descripcion'].replace(to_replace= '.*SCENIC.*', value= 'SCENIC', regex= True, inplace= True) \n",
    "data['automotor_modelo_descripcion'].replace(to_replace= '.*TAUNUS.*', value= 'TAUNUS', regex= True, inplace= True) \n",
    "data['automotor_modelo_descripcion'].replace(to_replace= '.*LANCER.*', value= 'LANCER', regex= True, inplace= True) \n",
    "data['automotor_modelo_descripcion'].replace(to_replace= '.*KUGA.*', value= 'KUGA', regex= True, inplace= True) \n",
    "data['automotor_modelo_descripcion'].replace(to_replace= '.*SPARK.*', value= 'SPARK', regex= True, inplace= True) \n",
    "data['automotor_modelo_descripcion'].replace(to_replace= '.*AXOR.*', value= 'AXOR', regex= True, inplace= True) \n",
    "data['automotor_modelo_descripcion'].replace(to_replace= '.*SANTANA.*', value= 'SANTANA', regex= True, inplace= True) \n",
    "data['automotor_modelo_descripcion'].replace(to_replace= '.*A1\\s+.*', value= 'A1', regex= True, inplace= True) \n",
    "data['automotor_modelo_descripcion'].replace(to_replace= '.*DOBLO.*', value= 'DOBLO', regex= True, inplace= True) \n",
    "data['automotor_modelo_descripcion'].replace(to_replace= '.*KWID.*', value= 'KWID', regex= True, inplace= True) \n",
    "data['automotor_modelo_descripcion'].replace(to_replace= '.*LAGUNA.*', value= 'LAGUNA', regex= True, inplace= True) \n",
    "data['automotor_modelo_descripcion'].replace(to_replace= '.*CITY.*', value= 'CITY', regex= True, inplace= True) \n",
    "data['automotor_modelo_descripcion'].replace(to_replace= '.*COOPER.*', value= 'COOPER', regex= True, inplace= True) \n",
    "data['automotor_modelo_descripcion'].replace(to_replace= '.*TIGUAN.*', value= 'TIGUAN', regex= True, inplace= True) \n",
    "data['automotor_modelo_descripcion'].replace(to_replace= '.*CAPTUR.*', value= 'CAPTUR', regex= True, inplace= True) \n",
    "data['automotor_modelo_descripcion'].replace(to_replace= '.*BEETLE.*', value= 'BEETLE', regex= True, inplace= True) \n",
    "data['automotor_modelo_descripcion'].replace(to_replace= '.*B2500.*', value= 'B2500', regex= True, inplace= True) \n",
    "data['automotor_modelo_descripcion'].replace(to_replace= '.*B200.*', value= 'B200', regex= True, inplace= True) \n",
    "data['automotor_modelo_descripcion'].replace(to_replace= '.*LEON.*', value= 'LEON', regex= True, inplace= True) \n",
    "data['automotor_modelo_descripcion'].replace(to_replace= '.*LINEA.*', value= 'LINEA', regex= True, inplace= True) \n",
    "data['automotor_modelo_descripcion'].replace(to_replace= '.*COMPASS.*', value= 'COMPASS', regex= True, inplace= True) \n",
    "data['automotor_modelo_descripcion'].replace(to_replace= '.*MONTANA.*', value= 'MONTANA', regex= True, inplace= True) \n",
    "data['automotor_modelo_descripcion'].replace(to_replace= '.*C.*?200.*', value= 'C 200', regex= True, inplace= True) #(NOTHING OR MORE BETWEEN)\n",
    "data['automotor_modelo_descripcion'].replace(to_replace= '.*C.*?220.*', value= 'C 220', regex= True, inplace= True) #(NOTHING OR MORE BETWEEN)\n",
    "data['automotor_modelo_descripcion'].replace(to_replace= '.*C.*?250.*', value= 'C 250', regex= True, inplace= True) #(NOTHING OR MORE BETWEEN)\n",
    "data['automotor_modelo_descripcion'].replace(to_replace= '.*MUSSO.*', value= 'MUSSO', regex= True, inplace= True) #(NOTHING OR MORE BETWEEN)\n",
    "data['automotor_modelo_descripcion'].replace(to_replace= '.*DAILY.*', value= 'DAILY', regex= True, inplace= True) #(NOTHING OR MORE BETWEEN)\n",
    "data['automotor_modelo_descripcion'].replace(to_replace= '^214.*', value= '214', regex= True, inplace= True) #(NOTHING OR MORE BETWEEN)\n",
    "data['automotor_modelo_descripcion'].replace(to_replace= '^216.*', value= '216', regex= True, inplace= True) #(NOTHING OR MORE BETWEEN)\n",
    "data['automotor_modelo_descripcion'].replace(to_replace= '^600.*', value= '600', regex= True, inplace= True) #(NOTHING OR MORE BETWEEN)\n",
    "data['automotor_modelo_descripcion'].replace(to_replace= '.*ATEGO.*', value= 'ATEGO', regex= True, inplace= True) #(NOTHING OR MORE BETWEEN)\n",
    "data['automotor_modelo_descripcion'].replace(to_replace= '.*X5.*', value= 'X5', regex= True, inplace= True) #(NOTHING OR MORE BETWEEN)\n",
    "data['automotor_modelo_descripcion'].replace(to_replace= '^318.*', value= '318', regex= True, inplace= True) #(NOTHING OR MORE BETWEEN)\n",
    "data['automotor_modelo_descripcion'].replace(to_replace= '.*528.*', value= '528', regex= True, inplace= True) #(NOTHING OR MORE BETWEEN)\n",
    "data['automotor_modelo_descripcion'].replace(to_replace= '.*CORDOBA.*', value= 'CORDOBA', regex= True, inplace= True) #(NOTHING OR MORE BETWEEN)\n",
    "data['automotor_modelo_descripcion'].replace(to_replace= '.*SAXO.*', value= 'SAXO', regex= True, inplace= True) #(NOTHING OR MORE BETWEEN)\n",
    "data['automotor_modelo_descripcion'].replace(to_replace= '.*IBIZA.*', value= 'IBIZA', regex= True, inplace= True) #(NOTHING OR MORE BETWEEN)\n",
    "data['automotor_modelo_descripcion'].replace(to_replace= '.*FULWIN.*', value= 'FULWIN', regex= True, inplace= True) #(NOTHING OR MORE BETWEEN)\n",
    "data['automotor_modelo_descripcion'].replace(to_replace= '.*INCA.*', value= 'INCA', regex= True, inplace= True) #(NOTHING OR MORE BETWEEN)\n",
    "data['automotor_modelo_descripcion'].replace(to_replace= '.*420.*', value= '420', regex= True, inplace= True) #(NOTHING OR MORE BETWEEN)\n",
    "data['automotor_modelo_descripcion'].replace(to_replace= '^H1.*', value= 'H1', regex= True, inplace= True) #(NOTHING OR MORE BETWEEN)\n",
    "data['automotor_modelo_descripcion'].replace(to_replace= '^156.*', value= '156', regex= True, inplace= True) #(NOTHING OR MORE BETWEEN)\n",
    "\n"
   ]
  },
  {
   "cell_type": "code",
   "execution_count": 24,
   "metadata": {
    "Collapsed": "false"
   },
   "outputs": [],
   "source": [
    "conteo3 = data['automotor_modelo_descripcion'].value_counts() < 15\n",
    "remover3 = conteo3[conteo3].index\n",
    "data = data[~data.automotor_modelo_descripcion.isin(remover3)]"
   ]
  },
  {
   "cell_type": "code",
   "execution_count": 16,
   "metadata": {
    "Collapsed": "false"
   },
   "outputs": [
    {
     "data": {
      "text/plain": [
       "(2992, 18)"
      ]
     },
     "execution_count": 16,
     "metadata": {},
     "output_type": "execute_result"
    }
   ],
   "source": [
    "data.shape"
   ]
  },
  {
   "cell_type": "code",
   "execution_count": 17,
   "metadata": {
    "Collapsed": "false"
   },
   "outputs": [],
   "source": [
    "data.drop_duplicates(inplace= True)"
   ]
  },
  {
   "cell_type": "code",
   "execution_count": 18,
   "metadata": {
    "Collapsed": "false"
   },
   "outputs": [
    {
     "data": {
      "text/plain": [
       "(2989, 18)"
      ]
     },
     "execution_count": 18,
     "metadata": {},
     "output_type": "execute_result"
    }
   ],
   "source": [
    "data.shape"
   ]
  },
  {
   "cell_type": "code",
   "execution_count": 19,
   "metadata": {
    "Collapsed": "false"
   },
   "outputs": [
    {
     "data": {
      "text/plain": [
       "tramite_tipo                       0\n",
       "tramite_fecha                      0\n",
       "fecha_inscripcion_inicial          0\n",
       "registro_seccional_descripcion     0\n",
       "registro_seccional_provincia       0\n",
       "automotor_origen                   0\n",
       "automotor_anio_modelo              5\n",
       "automotor_tipo_descripcion         0\n",
       "automotor_marca_descripcion        0\n",
       "automotor_modelo_descripcion       0\n",
       "automotor_uso_descripcion          0\n",
       "titular_tipo_persona               0\n",
       "titular_domicilio_localidad        6\n",
       "titular_domicilio_provincia        0\n",
       "titular_genero                     0\n",
       "titular_anio_nacimiento           27\n",
       "titular_pais_nacimiento            0\n",
       "titular_porcentaje_titularidad     0\n",
       "dtype: int64"
      ]
     },
     "execution_count": 19,
     "metadata": {},
     "output_type": "execute_result"
    }
   ],
   "source": [
    "data.isnull().sum()"
   ]
  },
  {
   "cell_type": "code",
   "execution_count": 20,
   "metadata": {
    "Collapsed": "false"
   },
   "outputs": [],
   "source": [
    "data.dropna(inplace= True)"
   ]
  },
  {
   "cell_type": "code",
   "execution_count": 21,
   "metadata": {
    "Collapsed": "false"
   },
   "outputs": [
    {
     "data": {
      "text/plain": [
       "(2953, 18)"
      ]
     },
     "execution_count": 21,
     "metadata": {},
     "output_type": "execute_result"
    }
   ],
   "source": [
    "data.shape"
   ]
  },
  {
   "cell_type": "code",
   "execution_count": 22,
   "metadata": {
    "Collapsed": "false"
   },
   "outputs": [],
   "source": [
    "data.to_csv('C:/Users/ilcarbo/Documents/DATA/backup cagadas/recus_reg.csv', index= False)"
   ]
  },
  {
   "cell_type": "code",
   "execution_count": 23,
   "metadata": {
    "Collapsed": "false"
   },
   "outputs": [],
   "source": [
    "robos = pd.read_csv('C:/Users/ilcarbo/Documents/DATA/backup cagadas/robos_reg.csv')"
   ]
  },
  {
   "cell_type": "code",
   "execution_count": 24,
   "metadata": {
    "Collapsed": "false"
   },
   "outputs": [],
   "source": [
    "EDA = pd.concat([robos, data], ignore_index= True)"
   ]
  },
  {
   "cell_type": "code",
   "execution_count": 25,
   "metadata": {
    "Collapsed": "false"
   },
   "outputs": [
    {
     "data": {
      "text/plain": [
       "(60673, 18)"
      ]
     },
     "execution_count": 25,
     "metadata": {},
     "output_type": "execute_result"
    }
   ],
   "source": [
    "EDA.shape"
   ]
  },
  {
   "cell_type": "code",
   "execution_count": 26,
   "metadata": {
    "Collapsed": "false"
   },
   "outputs": [
    {
     "data": {
      "text/html": [
       "<div>\n",
       "<style scoped>\n",
       "    .dataframe tbody tr th:only-of-type {\n",
       "        vertical-align: middle;\n",
       "    }\n",
       "\n",
       "    .dataframe tbody tr th {\n",
       "        vertical-align: top;\n",
       "    }\n",
       "\n",
       "    .dataframe thead th {\n",
       "        text-align: right;\n",
       "    }\n",
       "</style>\n",
       "<table border=\"1\" class=\"dataframe\">\n",
       "  <thead>\n",
       "    <tr style=\"text-align: right;\">\n",
       "      <th></th>\n",
       "      <th>tramite_tipo</th>\n",
       "      <th>tramite_fecha</th>\n",
       "      <th>fecha_inscripcion_inicial</th>\n",
       "      <th>registro_seccional_descripcion</th>\n",
       "      <th>registro_seccional_provincia</th>\n",
       "      <th>automotor_origen</th>\n",
       "      <th>automotor_anio_modelo</th>\n",
       "      <th>automotor_tipo_descripcion</th>\n",
       "      <th>automotor_marca_descripcion</th>\n",
       "      <th>automotor_modelo_descripcion</th>\n",
       "      <th>automotor_uso_descripcion</th>\n",
       "      <th>titular_tipo_persona</th>\n",
       "      <th>titular_domicilio_localidad</th>\n",
       "      <th>titular_domicilio_provincia</th>\n",
       "      <th>titular_genero</th>\n",
       "      <th>titular_anio_nacimiento</th>\n",
       "      <th>titular_pais_nacimiento</th>\n",
       "      <th>titular_porcentaje_titularidad</th>\n",
       "    </tr>\n",
       "  </thead>\n",
       "  <tbody>\n",
       "    <tr>\n",
       "      <td>0</td>\n",
       "      <td>DENUNCIA DE ROBO O HURTO</td>\n",
       "      <td>2018-01-17</td>\n",
       "      <td>2000-10-05</td>\n",
       "      <td>ESTEBAN ECHEVERRIA Nº 1</td>\n",
       "      <td>Buenos Aires</td>\n",
       "      <td>Nacional</td>\n",
       "      <td>2000.0</td>\n",
       "      <td>SEDAN 4 P</td>\n",
       "      <td>CHEVROLET</td>\n",
       "      <td>CORSA</td>\n",
       "      <td>Privado</td>\n",
       "      <td>Física</td>\n",
       "      <td>MONTE GRANDE</td>\n",
       "      <td>BUENOS AIRES</td>\n",
       "      <td>Masculino</td>\n",
       "      <td>1981.0</td>\n",
       "      <td>Argentina</td>\n",
       "      <td>100</td>\n",
       "    </tr>\n",
       "    <tr>\n",
       "      <td>1</td>\n",
       "      <td>DENUNCIA DE ROBO O HURTO</td>\n",
       "      <td>2018-01-03</td>\n",
       "      <td>2007-11-22</td>\n",
       "      <td>LANUS Nº 1</td>\n",
       "      <td>Buenos Aires</td>\n",
       "      <td>Nacional</td>\n",
       "      <td>2007.0</td>\n",
       "      <td>FURGON</td>\n",
       "      <td>PEUGEOT</td>\n",
       "      <td>PARTNER</td>\n",
       "      <td>Privado</td>\n",
       "      <td>Física</td>\n",
       "      <td>VALENTIN ALSINA</td>\n",
       "      <td>BUENOS AIRES</td>\n",
       "      <td>Femenino</td>\n",
       "      <td>1990.0</td>\n",
       "      <td>Argentina</td>\n",
       "      <td>100</td>\n",
       "    </tr>\n",
       "    <tr>\n",
       "      <td>2</td>\n",
       "      <td>DENUNCIA DE ROBO O HURTO</td>\n",
       "      <td>2018-01-12</td>\n",
       "      <td>1995-02-01</td>\n",
       "      <td>MAR DEL PLATA Nº 02</td>\n",
       "      <td>Buenos Aires</td>\n",
       "      <td>Nacional</td>\n",
       "      <td>1995.0</td>\n",
       "      <td>SEDAN 4 P</td>\n",
       "      <td>RENAULT</td>\n",
       "      <td>RENAULT 19</td>\n",
       "      <td>Privado</td>\n",
       "      <td>Física</td>\n",
       "      <td>UNIDAD TURISTICA CHAPADMALAL</td>\n",
       "      <td>BUENOS AIRES</td>\n",
       "      <td>Masculino</td>\n",
       "      <td>1986.0</td>\n",
       "      <td>Argentina</td>\n",
       "      <td>100</td>\n",
       "    </tr>\n",
       "  </tbody>\n",
       "</table>\n",
       "</div>"
      ],
      "text/plain": [
       "               tramite_tipo tramite_fecha fecha_inscripcion_inicial  \\\n",
       "0  DENUNCIA DE ROBO O HURTO    2018-01-17                2000-10-05   \n",
       "1  DENUNCIA DE ROBO O HURTO    2018-01-03                2007-11-22   \n",
       "2  DENUNCIA DE ROBO O HURTO    2018-01-12                1995-02-01   \n",
       "\n",
       "  registro_seccional_descripcion registro_seccional_provincia  \\\n",
       "0        ESTEBAN ECHEVERRIA Nº 1                 Buenos Aires   \n",
       "1                     LANUS Nº 1                 Buenos Aires   \n",
       "2            MAR DEL PLATA Nº 02                 Buenos Aires   \n",
       "\n",
       "  automotor_origen  automotor_anio_modelo automotor_tipo_descripcion  \\\n",
       "0         Nacional                 2000.0                  SEDAN 4 P   \n",
       "1         Nacional                 2007.0                     FURGON   \n",
       "2         Nacional                 1995.0                  SEDAN 4 P   \n",
       "\n",
       "  automotor_marca_descripcion automotor_modelo_descripcion  \\\n",
       "0                   CHEVROLET                        CORSA   \n",
       "1                     PEUGEOT                      PARTNER   \n",
       "2                     RENAULT                   RENAULT 19   \n",
       "\n",
       "  automotor_uso_descripcion titular_tipo_persona  \\\n",
       "0                   Privado               Física   \n",
       "1                   Privado               Física   \n",
       "2                   Privado               Física   \n",
       "\n",
       "    titular_domicilio_localidad titular_domicilio_provincia titular_genero  \\\n",
       "0                  MONTE GRANDE                BUENOS AIRES      Masculino   \n",
       "1               VALENTIN ALSINA                BUENOS AIRES       Femenino   \n",
       "2  UNIDAD TURISTICA CHAPADMALAL                BUENOS AIRES      Masculino   \n",
       "\n",
       "   titular_anio_nacimiento titular_pais_nacimiento  \\\n",
       "0                   1981.0               Argentina   \n",
       "1                   1990.0               Argentina   \n",
       "2                   1986.0               Argentina   \n",
       "\n",
       "   titular_porcentaje_titularidad  \n",
       "0                             100  \n",
       "1                             100  \n",
       "2                             100  "
      ]
     },
     "execution_count": 26,
     "metadata": {},
     "output_type": "execute_result"
    }
   ],
   "source": [
    "EDA.head(3)"
   ]
  },
  {
   "cell_type": "code",
   "execution_count": 33,
   "metadata": {
    "Collapsed": "false"
   },
   "outputs": [],
   "source": [
    "EDA['titular_pais_nacimiento'] = EDA['titular_pais_nacimiento'].map(lambda x: x.upper())"
   ]
  },
  {
   "cell_type": "code",
   "execution_count": 29,
   "metadata": {
    "Collapsed": "false"
   },
   "outputs": [],
   "source": [
    "EDA['titular_pais_nacimiento'] = EDA['titular_pais_nacimiento'].str.normalize('NFKD').str.encode('ascii', errors='ignore').str.decode('utf-8')"
   ]
  },
  {
   "cell_type": "code",
   "execution_count": 34,
   "metadata": {
    "Collapsed": "false"
   },
   "outputs": [],
   "source": [
    "# Tratar casos especiales y cambiar (z franca cdo rivadavia y rivera)\n",
    "EDA['titular_pais_nacimiento'] = EDA['titular_pais_nacimiento'].replace('Z.F. CDRO.RIVADAVIA(ARG.)', 'ARGENTINA')\n",
    "EDA['titular_pais_nacimiento'] = EDA['titular_pais_nacimiento'].replace('Z.FRANCA CDRO. RIVADAVIA (ARG)', 'ARGENTINA')\n",
    "EDA['titular_pais_nacimiento'] = EDA['titular_pais_nacimiento'].replace('Z.F. PUNTA ARENAS (CHILE)', 'CHILE')\n",
    "EDA['titular_pais_nacimiento'] = EDA['titular_pais_nacimiento'].replace('RIVERA (URUGUAY)', 'URUGUAY')\n",
    "# Cambiar \"NO APLICA\" y \"NO IDENTIFICADO\" por NaN // REEMPLAZAR POR NO IDENTIFICADO? SI HACER\n",
    "#todo['titular_pais_nacimiento'] = todo['titular_pais_nacimiento'].replace('NO APLICA', np.nan)\n",
    "#todo['titular_pais_nacimiento'] = todo['titular_pais_nacimiento'].replace('NO IDENTIFICADO', np.nan)\n",
    "EDA['titular_pais_nacimiento'] = EDA['titular_pais_nacimiento'].replace('NO APLICA', 'NO IDENTIFICADO')"
   ]
  },
  {
   "cell_type": "code",
   "execution_count": 35,
   "metadata": {
    "Collapsed": "false"
   },
   "outputs": [],
   "source": [
    "cond_index = EDA[EDA['automotor_anio_modelo'] == 20].index\n",
    "EDA.drop(cond_index, inplace = True)"
   ]
  },
  {
   "cell_type": "code",
   "execution_count": 36,
   "metadata": {
    "Collapsed": "false"
   },
   "outputs": [
    {
     "data": {
      "text/plain": [
       "(60670, 18)"
      ]
     },
     "execution_count": 36,
     "metadata": {},
     "output_type": "execute_result"
    }
   ],
   "source": [
    "EDA.shape"
   ]
  },
  {
   "cell_type": "code",
   "execution_count": 38,
   "metadata": {
    "Collapsed": "false"
   },
   "outputs": [],
   "source": [
    "data.drop_duplicates(inplace= True)"
   ]
  },
  {
   "cell_type": "code",
   "execution_count": 39,
   "metadata": {
    "Collapsed": "false"
   },
   "outputs": [
    {
     "data": {
      "text/plain": [
       "(60670, 18)"
      ]
     },
     "execution_count": 39,
     "metadata": {},
     "output_type": "execute_result"
    }
   ],
   "source": [
    "EDA.shape"
   ]
  },
  {
   "cell_type": "code",
   "execution_count": 37,
   "metadata": {
    "Collapsed": "false"
   },
   "outputs": [],
   "source": [
    "EDA.to_csv('C:/Users/ilcarbo/Documents/DATA/backup cagadas/para_EDA.csv', index= False)"
   ]
  },
  {
   "cell_type": "code",
   "execution_count": null,
   "metadata": {
    "Collapsed": "false"
   },
   "outputs": [],
   "source": []
  }
 ],
 "metadata": {
  "kernelspec": {
   "display_name": "Python 3",
   "language": "python",
   "name": "python3"
  },
  "language_info": {
   "codemirror_mode": {
    "name": "ipython",
    "version": 3
   },
   "file_extension": ".py",
   "mimetype": "text/x-python",
   "name": "python",
   "nbconvert_exporter": "python",
   "pygments_lexer": "ipython3",
   "version": "3.7.1"
  }
 },
 "nbformat": 4,
 "nbformat_minor": 4
}
